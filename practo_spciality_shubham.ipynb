{
 "cells": [
  {
   "cell_type": "markdown",
   "metadata": {},
   "source": [
    "Name - Shubham Mathankar\n",
    "Description - Code for scrapping all specialities corressponding to each city from practo website"
   ]
  },
  {
   "cell_type": "code",
   "execution_count": null,
   "metadata": {},
   "outputs": [],
   "source": [
    "######################################################################speciallity practo\n",
    "\n",
    "import requests,csv,time\n",
    "from selenium import webdriver\n",
    "from selenium.webdriver.common.by import By \n",
    "from selenium.webdriver.support.ui import WebDriverWait \n",
    "from selenium.webdriver.support import expected_conditions as EC \n",
    "from selenium.common.exceptions import TimeoutException\n",
    "\n",
    "option = webdriver.ChromeOptions()\n",
    "option.add_argument(\"— incognito\")\n",
    "browser = webdriver.Chrome(executable_path=r'F:\\scrapping program\\chromedriver_win32\\chromedriver.exe')\n",
    "\n",
    "\n",
    "\n",
    "for i in range(1,28):\n",
    "    \n",
    "    \n",
    "    path='https://www.practo.com/rajkot?page=' + str(i)\n",
    "    browser.get(path)\n",
    "    \n",
    "    def spec(browser):\n",
    "        \n",
    "        dn1 = browser.find_elements_by_xpath(\"//p[@class='doc-specialties ']\")\n",
    "        a1=[]\n",
    "        for t in dn1:\n",
    "            a1.append(t.text)\n",
    "            print(a1)\n",
    "            \n",
    "        return a1\n",
    "        lis = []\n",
    "        for k in a1:\n",
    "            lis.append([k])\n",
    "        with open('speciality_practo.csv','a',newline='') as f:\n",
    "            head2=['speciality']\n",
    "            writer=csv.DictWriter(f,fieldnames=head2)\n",
    "            writer.writeheader()\n",
    "            for m in lis:\n",
    "                writer.writerow({'speciality':m})\n",
    "    spec(browser)"
   ]
  }
 ],
 "metadata": {
  "kernelspec": {
   "display_name": "Python 3",
   "language": "python",
   "name": "python3"
  },
  "language_info": {
   "codemirror_mode": {
    "name": "ipython",
    "version": 3
   },
   "file_extension": ".py",
   "mimetype": "text/x-python",
   "name": "python",
   "nbconvert_exporter": "python",
   "pygments_lexer": "ipython3",
   "version": "3.6.4"
  }
 },
 "nbformat": 4,
 "nbformat_minor": 2
}
