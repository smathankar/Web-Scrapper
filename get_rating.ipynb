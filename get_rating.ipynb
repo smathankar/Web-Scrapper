{
 "cells": [
  {
   "cell_type": "code",
   "execution_count": 14,
   "metadata": {},
   "outputs": [],
   "source": [
    "import random\n",
    "rate={'1':0,'2':1,'3':2,'4':3,'5':4,'6':5,'7':6,'8':7,'9':8,'10':9}\n",
    "#rating=['1','2','3','4','5','6','7','8','9','10']\n",
    "city=['mumbai','indore','chennai','pune','bangalore','jaipur','udaipur','ajmer','jodhpur','gwailor','kanpur','lucknow']\n",
    "book=['book','reserve','show me','suggest','find',]"
   ]
  },
  {
   "cell_type": "code",
   "execution_count": 2,
   "metadata": {},
   "outputs": [
    {
     "data": {
      "text/plain": [
       "0"
      ]
     },
     "execution_count": 2,
     "metadata": {},
     "output_type": "execute_result"
    }
   ],
   "source": [
    "rate['1']"
   ]
  },
  {
   "cell_type": "code",
   "execution_count": 30,
   "metadata": {},
   "outputs": [],
   "source": [
    "rates2=[]\n",
    "for i in range(200):\n",
    "    r=random.choice(rating)\n",
    "    r1=random.choice(rating)\n",
    "    que='{2} a {0} star rating hotel in {1} or {3} star rating hotel in {4}'.format(r,random.choice(city),random.choice(book),r1,random.choice(city))\n",
    "    #que='{2} a {0} star rating hotel in {1} or {3} star rating hotel in {4}'.format(r,random.choice(city),random.choice(book),r1,random.choice(city))\n",
    "    res='Array([0]=>'+str(rate[r])+' [1]=>'+str(rate[r1])+')'\n",
    "    #print(res)\n",
    "    #que1='{2} a {0} star rating hotel in {1}'\n",
    "    que2='{0} a movie ticket which has a IMDB rating {1}'.format(random.choice(book),r1)\n",
    "    res2='Array([0]=>'+str(rate[r1])\n",
    "    rates2.append([que2,res2])"
   ]
  },
  {
   "cell_type": "code",
   "execution_count": 17,
   "metadata": {},
   "outputs": [
    {
     "data": {
      "text/plain": [
       "[['reserve a 7 star hotel in chennai', 'Array([0]=>6)'],\n",
       " ['reserve a 3 star hotel in chennai', 'Array([0]=>2)'],\n",
       " ['book a 1 star hotel in mumbai', 'Array([0]=>0)'],\n",
       " ['reserve a 6 star hotel in kanpur', 'Array([0]=>5)'],\n",
       " ['book a 10 star hotel in pune', 'Array([0]=>9)']]"
      ]
     },
     "execution_count": 17,
     "metadata": {},
     "output_type": "execute_result"
    }
   ],
   "source": [
    "rates[:5]"
   ]
  },
  {
   "cell_type": "code",
   "execution_count": 32,
   "metadata": {},
   "outputs": [],
   "source": [
    "import csv\n",
    "with open('getrating.csv','a',newline='') as f:\n",
    "    head=['Question','Result']\n",
    "    writer=csv.DictWriter(f,fieldnames=head)\n",
    "    writer.writeheader()\n",
    "    for i in rates2:\n",
    "        writer.writerow({'Question':i[0],'Result':i[1]})"
   ]
  },
  {
   "cell_type": "code",
   "execution_count": 27,
   "metadata": {},
   "outputs": [
    {
     "data": {
      "text/plain": [
       "[['reserve a 8 star rating hotel in jodhpur or 3 star rating hotel in pune',\n",
       "  'Array([0]=>7 [1]=>2)'],\n",
       " ['reserve a 7 star rating hotel in jodhpur or 3 star rating hotel in chennai',\n",
       "  'Array([0]=>6 [1]=>2)'],\n",
       " ['reserve a 9 star rating hotel in lucknow or 3 star rating hotel in mumbai',\n",
       "  'Array([0]=>8 [1]=>2)'],\n",
       " ['book a 9 star rating hotel in mumbai or 5 star rating hotel in gwailor',\n",
       "  'Array([0]=>8 [1]=>4)'],\n",
       " ['reserve a 9 star rating hotel in chennai or 5 star rating hotel in bangalore',\n",
       "  'Array([0]=>8 [1]=>4)'],\n",
       " ['reserve a 5 star rating hotel in bangalore or 5 star rating hotel in mumbai',\n",
       "  'Array([0]=>4 [1]=>4)'],\n",
       " ['reserve a 8 star rating hotel in udaipur or 10 star rating hotel in indore',\n",
       "  'Array([0]=>7 [1]=>9)'],\n",
       " ['book a 9 star rating hotel in gwailor or 3 star rating hotel in jodhpur',\n",
       "  'Array([0]=>8 [1]=>2)'],\n",
       " ['book a 4 star rating hotel in jodhpur or 2 star rating hotel in gwailor',\n",
       "  'Array([0]=>3 [1]=>1)'],\n",
       " ['book a 4 star rating hotel in chennai or 8 star rating hotel in jodhpur',\n",
       "  'Array([0]=>3 [1]=>7)']]"
      ]
     },
     "execution_count": 27,
     "metadata": {},
     "output_type": "execute_result"
    }
   ],
   "source": [
    "rates1[:10]"
   ]
  },
  {
   "cell_type": "code",
   "execution_count": 31,
   "metadata": {},
   "outputs": [
    {
     "data": {
      "text/plain": [
       "[['reserve a movie ticket which has a IMDB rating 7', 'Array([0]=>6'],\n",
       " ['book a movie ticket which has a IMDB rating 10', 'Array([0]=>9'],\n",
       " ['book a movie ticket which has a IMDB rating 5', 'Array([0]=>4']]"
      ]
     },
     "execution_count": 31,
     "metadata": {},
     "output_type": "execute_result"
    }
   ],
   "source": [
    "rates2[:3]"
   ]
  },
  {
   "cell_type": "code",
   "execution_count": null,
   "metadata": {},
   "outputs": [],
   "source": []
  }
 ],
 "metadata": {
  "kernelspec": {
   "display_name": "Python 3",
   "language": "python",
   "name": "python3"
  },
  "language_info": {
   "codemirror_mode": {
    "name": "ipython",
    "version": 3
   },
   "file_extension": ".py",
   "mimetype": "text/x-python",
   "name": "python",
   "nbconvert_exporter": "python",
   "pygments_lexer": "ipython3",
   "version": "3.6.4"
  }
 },
 "nbformat": 4,
 "nbformat_minor": 2
}
